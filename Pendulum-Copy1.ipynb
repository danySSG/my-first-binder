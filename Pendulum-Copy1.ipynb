{
 "cells": [
  {
   "cell_type": "markdown",
   "id": "b1a4c0c4",
   "metadata": {},
   "source": [
    "# To launch selected cell use `Ctrl + Enter`"
   ]
  },
  {
   "cell_type": "markdown",
   "id": "f614a2c4",
   "metadata": {},
   "source": [
    "# Requirements"
   ]
  },
  {
   "cell_type": "code",
   "execution_count": null,
   "id": "e91b5aff",
   "metadata": {
    "code_folding": []
   },
   "outputs": [],
   "source": [
    "import numpy as np\n",
    "from scipy.integrate import solve_ivp\n",
    "\n",
    "from manim import *\n",
    "\n",
    "config.media_width = \"75%\"\n",
    "config.verbosity = \"WARNING\"\n",
    "\n",
    "def get_continuous_y(t, time_range, y_values):\n",
    "    \n",
    "    t_nearest = min(time_range, key=lambda x: abs(x-t))\n",
    "    i = time_range.index(t_nearest)\n",
    "\n",
    "    if t < t_nearest:\n",
    "        i1, i2 = i-1, i\n",
    "    elif t > t_nearest:\n",
    "        i1, i2 = i, i+1\n",
    "    else:\n",
    "        return y_values[i]\n",
    "        \n",
    "    t1, t2, y1, y2 = time_range[i1], time_range[i2], y_values[i1], y_values[i2]\n",
    "\n",
    "    return (t - t1) / (t2 - t1) * (y2 - y1) + y1"
   ]
  },
  {
   "cell_type": "markdown",
   "id": "aa65a112",
   "metadata": {},
   "source": [
    "# Setting the system parameters"
   ]
  },
  {
   "cell_type": "markdown",
   "id": "2c47eef9",
   "metadata": {},
   "source": [
    "# $\\theta''+\\frac{b}{m}\\theta'+\\frac{l}{g}\\sin{\\theta}=0$ is our equation"
   ]
  },
  {
   "cell_type": "markdown",
   "id": "a812cb2d",
   "metadata": {},
   "source": [
    "An explanation of all the maths will be here later. Now you can change parameters and see where it leads. I don't recommend setting high angles because the phase portrait will just go out of frame, it's not done yet."
   ]
  },
  {
   "cell_type": "code",
   "execution_count": null,
   "id": "77629829",
   "metadata": {},
   "outputs": [],
   "source": [
    "b, m, g, l, T = 0.5, 1, 1, 1, 23 # T is simulation time\n",
    "S0 = (0, np.pi/2 + np.pi/6) # initial conditions"
   ]
  },
  {
   "cell_type": "markdown",
   "id": "4458ccb8",
   "metadata": {},
   "source": [
    "# Solution calculation"
   ]
  },
  {
   "cell_type": "code",
   "execution_count": null,
   "id": "71b20a9e",
   "metadata": {},
   "outputs": [],
   "source": [
    "def dSdt(t,S):\n",
    "    x1, x2 = S\n",
    "    return [x2, -b/m*x2-g/l*np.sin(x1)]\n",
    "\n",
    "t = np.linspace(0, T, 10001)\n",
    "sol = solve_ivp(dSdt, t_span=(0,max(t)), y0=S0, t_eval=t)#, method = 'DOP853', rtol=1e-10, atol=1e-13)\n",
    "\n",
    "time_range = tuple(sol.t)\n",
    "y_values_0 = sol.y[0]\n",
    "y_values_1 = sol.y[1]"
   ]
  },
  {
   "cell_type": "markdown",
   "id": "75297766",
   "metadata": {},
   "source": [
    "# Animation (it takes some time, be patient)"
   ]
  },
  {
   "cell_type": "code",
   "execution_count": null,
   "id": "c4eca513",
   "metadata": {
    "scrolled": false
   },
   "outputs": [],
   "source": [
    "%%manim -ql Phase_Space\n",
    "\n",
    "Pendulum_Point = 4*LEFT + 2*UP\n",
    "Phase_Point = 2.5*RIGHT\n",
    "        \n",
    "class Phase_Space(Scene):\n",
    "    \n",
    "    def phase(self, t):\n",
    "        return Phase_Point + 7.5/4*np.array((get_continuous_y(t, time_range, y_values_0), get_continuous_y(t, time_range, y_values_1), 0))\n",
    "    \n",
    "    def pend(self, t):\n",
    "        return Pendulum_Point + 3*np.array((np.sin(get_continuous_y(t, time_range, y_values_1)), -np.cos(get_continuous_y(t, time_range, y_values_1)), 0))\n",
    "    \n",
    "    def construct(self):\n",
    "        \n",
    "        fps = 15\n",
    "        \n",
    "        ### phase space\n",
    "        \n",
    "        path = ParametricFunction(self.phase, t_range = np.array([0, T]), fill_opacity=0).set_color(RED)\n",
    "        point = Dot(self.phase(0), radius=0.1).set_color(YELLOW)\n",
    "        \n",
    "        self.add(path)\n",
    "        \n",
    "        ### Axes\n",
    "        \n",
    "        self.wait()\n",
    "        \n",
    "        axes = Axes(\n",
    "            x_range=[-2, 2],\n",
    "            y_range=[-2, 2],\n",
    "            x_length=7.5, \n",
    "            y_length=7.5,            \n",
    "            axis_config={                \n",
    "                \"include_tip\": True,                \n",
    "                #\"color\": GREY,\n",
    "                \"stroke_width\": 2,\n",
    "                \"font_size\": 24, \n",
    "                \"tick_size\": 0.07,                \n",
    "                \"longer_tick_multiple\": 1.5,\n",
    "                \"line_to_number_buff\": 0.15,  \n",
    "                \"decimal_number_config\": {\n",
    "                    #\"color\": ORANGE,\n",
    "                    \"num_decimal_places\": 0\n",
    "                    },             \n",
    "                },\n",
    "            x_axis_config={\n",
    "                \"tip_width\": 0.15,\n",
    "                \"tip_height\": 0.15,\n",
    "                \"numbers_to_include\": np.arange(-2, 3, 1),\n",
    "                \"numbers_with_elongated_ticks\": [-1, 1],\n",
    "                },             \n",
    "            y_axis_config={\n",
    "                \"tip_width\": 0.15,\n",
    "                \"tip_height\": 0.15,                \n",
    "                \"numbers_to_include\": np.arange(-2, 3, 1),\n",
    "                \"tick_size\": 0.08,\n",
    "                \"font_size\": 25, \n",
    "                \"numbers_with_elongated_ticks\": [-1, 1],                \n",
    "                }\n",
    "        ).move_to(Phase_Point)\n",
    "        x_lab = axes.get_x_axis_label(\"\\\\theta'\", direction=UP, buff=0.2)\n",
    "        y_lab = axes.get_y_axis_label(\"\\\\theta\", direction=RIGHT, buff=0.2)\n",
    "        labels = VGroup(x_lab.scale(0.9), y_lab.scale(0.9))\n",
    "\n",
    "        self.play(Write(axes, run_time=5), lag_ratio=0.2)\n",
    "        self.play(Write(labels))        \n",
    "        self.wait()\n",
    "        \n",
    "        ###\n",
    "        \n",
    "        self.play(FadeIn(point))\n",
    "        \n",
    "        ### pendulum\n",
    "        \n",
    "        mass = Dot(self.pend(0), radius=0.3).set_color(BLUE)\n",
    "        dashed_line = DashedLine(ORIGIN + Pendulum_Point, 3*DOWN + Pendulum_Point).set_color(GRAY)\n",
    "        line = always_redraw(lambda: Line(ORIGIN + Pendulum_Point, mass.get_center()))\n",
    "        trace = TracedPath(mass.get_center, dissipating_time=0.5, stroke_opacity=[0, 1], stroke_color='#FF8C00', stroke_width=10)\n",
    "        \n",
    "        self.play(\n",
    "            AnimationGroup(\n",
    "                Create(dashed_line),\n",
    "                Create(line),\n",
    "                DrawBorderThenFill(mass),\n",
    "                Create(trace),\n",
    "                lag_ratio=0.1\n",
    "            )\n",
    "        )\n",
    "        \n",
    "        ### render\n",
    "        \n",
    "        self.wait()\n",
    "        \n",
    "        for i in np.linspace(0, T, T*fps+1):\n",
    "            self.play(\n",
    "                AnimationGroup(\n",
    "                    ApplyMethod(point.move_to, self.phase(i)),\n",
    "                    ApplyMethod(mass.move_to, self.pend(i)),\n",
    "                    run_time=1/fps,\n",
    "                    lag_ratio=0\n",
    "                )\n",
    "            )\n",
    "        \n",
    "        self.wait()"
   ]
  },
  {
   "cell_type": "markdown",
   "id": "454ae08d",
   "metadata": {},
   "source": [
    "Сhange the key -ql (low quality 480p 15fps) to -qm (medium quality 720p 30fps) or even -qh (high quality 1080p 60fps) for better quality and be sure to change the `fps` value in the cell above."
   ]
  }
 ],
 "metadata": {
  "kernelspec": {
   "display_name": "Python 3 (ipykernel)",
   "language": "python",
   "name": "python3"
  },
  "language_info": {
   "codemirror_mode": {
    "name": "ipython",
    "version": 3
   },
   "file_extension": ".py",
   "mimetype": "text/x-python",
   "name": "python",
   "nbconvert_exporter": "python",
   "pygments_lexer": "ipython3",
   "version": "3.9.13"
  },
  "varInspector": {
   "cols": {
    "lenName": 16,
    "lenType": 16,
    "lenVar": 40
   },
   "kernels_config": {
    "python": {
     "delete_cmd_postfix": "",
     "delete_cmd_prefix": "del ",
     "library": "var_list.py",
     "varRefreshCmd": "print(var_dic_list())"
    },
    "r": {
     "delete_cmd_postfix": ") ",
     "delete_cmd_prefix": "rm(",
     "library": "var_list.r",
     "varRefreshCmd": "cat(var_dic_list()) "
    }
   },
   "types_to_exclude": [
    "module",
    "function",
    "builtin_function_or_method",
    "instance",
    "_Feature"
   ],
   "window_display": false
  }
 },
 "nbformat": 4,
 "nbformat_minor": 5
}
