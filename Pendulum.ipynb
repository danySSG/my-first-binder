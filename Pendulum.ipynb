{
 "cells": [
  {
   "cell_type": "markdown",
   "id": "1debc0c5",
   "metadata": {},
   "source": [
    "# Pendulum simulation and phase portrait\n",
    "\n",
    "# To launch selected cell use `Ctrl + Enter`"
   ]
  },
  {
   "cell_type": "markdown",
   "id": "f614a2c4",
   "metadata": {},
   "source": [
    "# Requirements"
   ]
  },
  {
   "cell_type": "code",
   "execution_count": 1,
   "id": "e91b5aff",
   "metadata": {
    "code_folding": []
   },
   "outputs": [
    {
     "data": {
      "text/html": [
       "<pre style=\"white-space:pre;overflow-x:auto;line-height:normal;font-family:Menlo,'DejaVu Sans Mono',consolas,'Courier New',monospace\">Manim Community <span style=\"color: #008000; text-decoration-color: #008000\">v0.17.3</span>\n",
       "\n",
       "</pre>\n"
      ],
      "text/plain": [
       "Manim Community \u001b[32mv0.\u001b[0m\u001b[32m17.3\u001b[0m\n",
       "\n"
      ]
     },
     "metadata": {},
     "output_type": "display_data"
    }
   ],
   "source": [
    "import numpy as np\n",
    "from scipy.integrate import solve_ivp\n",
    "from ipywidgets import FloatSlider\n",
    "from IPython.display import display\n",
    "from manim import *\n",
    "config.media_width = \"75%\"\n",
    "config.verbosity = \"WARNING\""
   ]
  },
  {
   "cell_type": "markdown",
   "id": "aa65a112",
   "metadata": {},
   "source": [
    "# Setting the system parameters"
   ]
  },
  {
   "cell_type": "markdown",
   "id": "2c47eef9",
   "metadata": {},
   "source": [
    "# $\\theta''+\\frac{b}{m}\\theta'+\\frac{l}{g}\\sin{\\theta}=0$ is our equation"
   ]
  },
  {
   "cell_type": "markdown",
   "id": "a812cb2d",
   "metadata": {},
   "source": [
    "An explanation of all the maths will be here later. Now you can change parameters and see where it leads. I don't recommend setting high angles because the phase portrait will just go out of frame, it's not done yet."
   ]
  },
  {
   "cell_type": "code",
   "execution_count": 2,
   "id": "7afaf14a",
   "metadata": {
    "code_folding": []
   },
   "outputs": [
    {
     "data": {
      "application/vnd.jupyter.widget-view+json": {
       "model_id": "c3580b6ddc0a42e892bdd653f91b881f",
       "version_major": 2,
       "version_minor": 0
      },
      "text/plain": [
       "FloatSlider(value=2.718281828459045, continuous_update=False, description='Start angle:', max=3.14159265358979…"
      ]
     },
     "metadata": {},
     "output_type": "display_data"
    },
    {
     "data": {
      "application/vnd.jupyter.widget-view+json": {
       "model_id": "fb16bc29b9f84157967a7d20c06c23be",
       "version_major": 2,
       "version_minor": 0
      },
      "text/plain": [
       "FloatSlider(value=0.35, continuous_update=False, description='Friction:', max=1.0, step=0.01)"
      ]
     },
     "metadata": {},
     "output_type": "display_data"
    },
    {
     "data": {
      "application/vnd.jupyter.widget-view+json": {
       "model_id": "9828bd0c50f644429dacbec938272002",
       "version_major": 2,
       "version_minor": 0
      },
      "text/plain": [
       "FloatSlider(value=1.0, continuous_update=False, description='Mass:', step=0.01)"
      ]
     },
     "metadata": {},
     "output_type": "display_data"
    },
    {
     "data": {
      "application/vnd.jupyter.widget-view+json": {
       "model_id": "0739528cc3334500932f4c9fb31d479a",
       "version_major": 2,
       "version_minor": 0
      },
      "text/plain": [
       "FloatSlider(value=1.0, continuous_update=False, description='Gravity:', step=0.01)"
      ]
     },
     "metadata": {},
     "output_type": "display_data"
    },
    {
     "data": {
      "application/vnd.jupyter.widget-view+json": {
       "model_id": "12a2cfbdbd3744918b136651369d0a69",
       "version_major": 2,
       "version_minor": 0
      },
      "text/plain": [
       "FloatSlider(value=30.0, continuous_update=False, description='Time:', step=0.01)"
      ]
     },
     "metadata": {},
     "output_type": "display_data"
    }
   ],
   "source": [
    "Slider_angle = FloatSlider(\n",
    "    value=np.e,\n",
    "    min=-np.pi, \n",
    "    max=np.pi, \n",
    "    step=0.01, \n",
    "    description='Start angle:',\n",
    "    continuous_update=False,\n",
    "    orientation='horizontal'\n",
    ")\n",
    "display(Slider_angle)\n",
    "\n",
    "Slider_friction = FloatSlider(\n",
    "    value=0.35,\n",
    "    min=0, \n",
    "    max=1, \n",
    "    step=0.01, \n",
    "    description='Friction:',\n",
    "    continuous_update=False,\n",
    "    orientation='horizontal'\n",
    ")\n",
    "display(Slider_friction)\n",
    "\n",
    "Slider_m = FloatSlider(\n",
    "    value=1,\n",
    "    min=0, \n",
    "    max=100, \n",
    "    step=0.01, \n",
    "    description='Mass:',\n",
    "    continuous_update=False,\n",
    "    orientation='horizontal'\n",
    ")\n",
    "display(Slider_m)\n",
    "\n",
    "Slider_g = FloatSlider(\n",
    "    value=1,\n",
    "    min=0, \n",
    "    max=100, \n",
    "    step=0.01, \n",
    "    description='Gravity:',\n",
    "    continuous_update=False,\n",
    "    orientation='horizontal'\n",
    ")\n",
    "display(Slider_g)\n",
    "\n",
    "Slider_T = FloatSlider(\n",
    "    value=30,\n",
    "    min=0, \n",
    "    max=100, \n",
    "    step=0.01, \n",
    "    description='Time:',\n",
    "    continuous_update=False,\n",
    "    orientation='horizontal'\n",
    ")\n",
    "display(Slider_T)"
   ]
  },
  {
   "cell_type": "markdown",
   "id": "4458ccb8",
   "metadata": {},
   "source": [
    "# Solution calculation"
   ]
  },
  {
   "cell_type": "code",
   "execution_count": 3,
   "id": "71b20a9e",
   "metadata": {},
   "outputs": [],
   "source": [
    "b, m, g, l, T = Slider_friction.value, Slider_m.value, Slider_g.value, 1, Slider_T.value # T is simulation time\n",
    "\n",
    "def dSdt(t,S):\n",
    "    x1, x2 = S\n",
    "    return [x2, -b/m*x2-g/l*np.sin(x1)]\n",
    "S0 = (Slider_angle.value, 0) # initial conditions\n",
    "\n",
    "t = np.linspace(0, T, 10001)\n",
    "sol = solve_ivp(dSdt, t_span=(0,max(t)), y0=S0, t_eval=t) #, method = 'DOP853', rtol=1e-10, atol=1e-13)\n",
    "\n",
    "time_range = tuple(sol.t)\n",
    "y_angles = sol.y[0]\n",
    "y_speeds = sol.y[1]"
   ]
  },
  {
   "cell_type": "markdown",
   "id": "75297766",
   "metadata": {},
   "source": [
    "# Animation (it takes some time, be patient)"
   ]
  },
  {
   "cell_type": "code",
   "execution_count": 4,
   "id": "c4eca513",
   "metadata": {
    "scrolled": false
   },
   "outputs": [
    {
     "name": "stderr",
     "output_type": "stream",
     "text": [
      "                                                                                              \r"
     ]
    },
    {
     "data": {
      "text/html": [
       "<video src=\"media\\jupyter\\Phase_Space@2023-05-03@21-37-52.mp4\" controls autoplay loop style=\"max-width: 75%;\"  >\n",
       "      Your browser does not support the <code>video</code> element.\n",
       "    </video>"
      ],
      "text/plain": [
       "<IPython.core.display.Video object>"
      ]
     },
     "metadata": {},
     "output_type": "display_data"
    }
   ],
   "source": [
    "%%manim -qm Phase_Space\n",
    "\n",
    "Pendulum_Point = 3.5*LEFT + 0.5*UP\n",
    "Scale_Pendulum = 3\n",
    "Phase_Point = 2.5*RIGHT\n",
    "Scale_Phase = 4.5/3.2\n",
    "\n",
    "def get_continuous_y(t, time_range, y_values):\n",
    "    \n",
    "    t_nearest = min(time_range, key=lambda x: abs(x-t))\n",
    "    i = time_range.index(t_nearest)\n",
    "\n",
    "    if t < t_nearest:\n",
    "        i1, i2 = i-1, i\n",
    "    elif t > t_nearest:\n",
    "        i1, i2 = i, i+1\n",
    "    else:\n",
    "        return y_values[i]\n",
    "        \n",
    "    t1, t2, y1, y2 = time_range[i1], time_range[i2], y_values[i1], y_values[i2]\n",
    "\n",
    "    return (t - t1) / (t2 - t1) * (y2 - y1) + y1\n",
    "        \n",
    "class Phase_Space(Scene):\n",
    "    \n",
    "    def phase(self, t):\n",
    "        return Phase_Point + Scale_Phase*np.array((get_continuous_y(t, time_range, y_angles), get_continuous_y(t, time_range, y_speeds), 0))\n",
    "    \n",
    "    def pend(self, t):\n",
    "        return Pendulum_Point + Scale_Pendulum*np.array((np.sin(get_continuous_y(t, time_range, y_angles)), -np.cos(get_continuous_y(t, time_range, y_angles)), 0))\n",
    "    \n",
    "    def construct(self):\n",
    "        \n",
    "        t = ValueTracker(0)\n",
    "        \n",
    "        ### Axes\n",
    "        \n",
    "        axes = Axes(\n",
    "            x_range=[-3.2, 3.2],\n",
    "            y_range=[-2.6, 2.6],\n",
    "            x_length=6.4*Scale_Phase, \n",
    "            y_length=5.2*Scale_Phase,            \n",
    "            axis_config={                \n",
    "                \"include_tip\": True,                \n",
    "                #\"color\": GREY,\n",
    "                \"stroke_width\": 2,\n",
    "                \"font_size\": 24, \n",
    "                \"tick_size\": 0.07,                \n",
    "                \"longer_tick_multiple\": 1.5,\n",
    "                \"line_to_number_buff\": 0.15,  \n",
    "                \"decimal_number_config\": {\n",
    "                    #\"color\": ORANGE,\n",
    "                    \"num_decimal_places\": 0\n",
    "                    },             \n",
    "                },\n",
    "            x_axis_config={\n",
    "                \"tip_width\": 0.15,\n",
    "                \"tip_height\": 0.15,\n",
    "                \"numbers_to_include\": np.arange(-3, 4, 1),\n",
    "                \"numbers_with_elongated_ticks\": [-1, 1],\n",
    "                },             \n",
    "            y_axis_config={\n",
    "                \"tip_width\": 0.15,\n",
    "                \"tip_height\": 0.15,                \n",
    "                \"numbers_to_include\": np.arange(-2, 3, 1),\n",
    "                \"tick_size\": 0.08,\n",
    "                \"font_size\": 25, \n",
    "                \"numbers_with_elongated_ticks\": [-1, 1],                \n",
    "                }\n",
    "        ).move_to(Phase_Point)\n",
    "        x_lab = axes.get_x_axis_label(\"\\\\theta\", direction=UP, buff=0.2)\n",
    "        y_lab = axes.get_y_axis_label(\"\\\\theta'\", direction=RIGHT, buff=0.2)\n",
    "        labels = VGroup(x_lab.scale(1), y_lab.scale(1))\n",
    "\n",
    "        self.play(Write(axes, run_time=1), lag_ratio=0.2)\n",
    "        \n",
    "         ### Phase space\n",
    "        \n",
    "        point = always_redraw(lambda: Dot(self.phase(t.get_value()), radius=0.07).set_color(YELLOW))\n",
    "        trace1 = TracedPath(point.get_center, dissipating_time=T, stroke_opacity=[1, 1], stroke_color=YELLOW, stroke_width=6, z_index=1)\n",
    "        self.play(Write(labels))        \n",
    "        \n",
    "        ### Pendulum\n",
    "        \n",
    "        dashed_line = DashedLine(ORIGIN + Pendulum_Point, Scale_Pendulum*DOWN + Pendulum_Point).set_color(GRAY)\n",
    "        mass = always_redraw(lambda: Dot(self.pend(t.get_value()), radius=0.3).set_color(BLUE))\n",
    "        line = always_redraw(lambda: Line(ORIGIN + Pendulum_Point, self.pend(t.get_value())))\n",
    "        trace2 = TracedPath(mass.get_center, dissipating_time=0.3, stroke_opacity=[0, 1], stroke_color='#FF8C00', stroke_width=10, z_index=1)\n",
    "        \n",
    "        ### Angle\n",
    "        \n",
    "        def theta(x):\n",
    "            if x >= 0:\n",
    "                return Angle(dashed_line, line, radius=1, quadrant=(1,1), stroke_width=8, other_angle=False, color=YELLOW)\n",
    "            else:\n",
    "                return Angle(dashed_line, line, radius=1, quadrant=(1,1), stroke_width=8, other_angle=True, color=YELLOW)\n",
    "            \n",
    "        def label_scale(x):\n",
    "            if x > np.pi:\n",
    "                while x > np.pi:\n",
    "                    x = x - 2*np.pi\n",
    "            elif x < -np.pi:\n",
    "                while x < -np.pi:\n",
    "                    x = x + 2*np.pi\n",
    "                    \n",
    "            x = abs(x)\n",
    "            \n",
    "            if x > 1:\n",
    "                return 1\n",
    "            else:\n",
    "                return np.power(x, 1/3)\n",
    "            \n",
    "        \n",
    "        angle_theta = always_redraw(lambda: theta(get_continuous_y(t.get_value(), time_range, y_angles)))\n",
    "        label_theta = always_redraw(lambda: MathTex(\"\\\\theta\", color=YELLOW, z_index=1).scale(1.5*label_scale(get_continuous_y(t.get_value(), time_range, y_angles))).next_to(angle_theta, DOWN))\n",
    "        \n",
    "        ###\n",
    "        \n",
    "        self.play(\n",
    "            AnimationGroup(\n",
    "                Create(dashed_line),\n",
    "                Create(line),\n",
    "                Create(angle_theta),\n",
    "                Write(label_theta),\n",
    "                DrawBorderThenFill(mass),\n",
    "                FadeIn(point),\n",
    "                lag_ratio=0.1,\n",
    "                run_time=1\n",
    "            )\n",
    "        )\n",
    "        self.add(trace1)\n",
    "        self.add(trace2)\n",
    "        \n",
    "        self.wait()\n",
    "        \n",
    "        self.play(t.animate.set_value(T), run_time=T, rate_func=linear)"
   ]
  },
  {
   "cell_type": "markdown",
   "id": "7458b535",
   "metadata": {},
   "source": [
    "In the next version, the phase space will be represented as a cylinder, which will make it possible to draw some topological conclusions."
   ]
  }
 ],
 "metadata": {
  "kernelspec": {
   "display_name": "Python 3 (ipykernel)",
   "language": "python",
   "name": "python3"
  },
  "language_info": {
   "codemirror_mode": {
    "name": "ipython",
    "version": 3
   },
   "file_extension": ".py",
   "mimetype": "text/x-python",
   "name": "python",
   "nbconvert_exporter": "python",
   "pygments_lexer": "ipython3",
   "version": "3.11.3"
  },
  "varInspector": {
   "cols": {
    "lenName": 16,
    "lenType": 16,
    "lenVar": 40
   },
   "kernels_config": {
    "python": {
     "delete_cmd_postfix": "",
     "delete_cmd_prefix": "del ",
     "library": "var_list.py",
     "varRefreshCmd": "print(var_dic_list())"
    },
    "r": {
     "delete_cmd_postfix": ") ",
     "delete_cmd_prefix": "rm(",
     "library": "var_list.r",
     "varRefreshCmd": "cat(var_dic_list()) "
    }
   },
   "types_to_exclude": [
    "module",
    "function",
    "builtin_function_or_method",
    "instance",
    "_Feature"
   ],
   "window_display": false
  }
 },
 "nbformat": 4,
 "nbformat_minor": 5
}
